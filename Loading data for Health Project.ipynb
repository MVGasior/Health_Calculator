{
 "cells": [
  {
   "cell_type": "code",
   "execution_count": 4,
   "metadata": {},
   "outputs": [],
   "source": [
    "import numpy as np\n",
    "import pandas as pd\n",
    "import matplotlib.pyplot as plt\n",
    "import os\n",
    "from sqlalchemy import create_engine"
   ]
  },
  {
   "cell_type": "code",
   "execution_count": 5,
   "metadata": {},
   "outputs": [],
   "source": [
    "os.chdir('./')"
   ]
  },
  {
   "cell_type": "markdown",
   "metadata": {},
   "source": [
    "# Review nutrient table and get only important values for us"
   ]
  },
  {
   "cell_type": "code",
   "execution_count": 6,
   "metadata": {},
   "outputs": [
    {
     "data": {
      "text/html": [
       "<div>\n",
       "<style scoped>\n",
       "    .dataframe tbody tr th:only-of-type {\n",
       "        vertical-align: middle;\n",
       "    }\n",
       "\n",
       "    .dataframe tbody tr th {\n",
       "        vertical-align: top;\n",
       "    }\n",
       "\n",
       "    .dataframe thead th {\n",
       "        text-align: right;\n",
       "    }\n",
       "</style>\n",
       "<table border=\"1\" class=\"dataframe\">\n",
       "  <thead>\n",
       "    <tr style=\"text-align: right;\">\n",
       "      <th></th>\n",
       "      <th>name</th>\n",
       "      <th>unit_name</th>\n",
       "    </tr>\n",
       "    <tr>\n",
       "      <th>id</th>\n",
       "      <th></th>\n",
       "      <th></th>\n",
       "    </tr>\n",
       "  </thead>\n",
       "  <tbody>\n",
       "    <tr>\n",
       "      <th>1002</th>\n",
       "      <td>Nitrogen</td>\n",
       "      <td>G</td>\n",
       "    </tr>\n",
       "    <tr>\n",
       "      <th>1003</th>\n",
       "      <td>Protein</td>\n",
       "      <td>G</td>\n",
       "    </tr>\n",
       "    <tr>\n",
       "      <th>1004</th>\n",
       "      <td>Total lipid (fat)</td>\n",
       "      <td>G</td>\n",
       "    </tr>\n",
       "    <tr>\n",
       "      <th>1005</th>\n",
       "      <td>Carbohydrate, by difference</td>\n",
       "      <td>G</td>\n",
       "    </tr>\n",
       "    <tr>\n",
       "      <th>1007</th>\n",
       "      <td>Ash</td>\n",
       "      <td>G</td>\n",
       "    </tr>\n",
       "    <tr>\n",
       "      <th>...</th>\n",
       "      <td>...</td>\n",
       "      <td>...</td>\n",
       "    </tr>\n",
       "    <tr>\n",
       "      <th>2029</th>\n",
       "      <td>trans-Lycopene</td>\n",
       "      <td>UG</td>\n",
       "    </tr>\n",
       "    <tr>\n",
       "      <th>2032</th>\n",
       "      <td>Cryptoxanthin, alpha</td>\n",
       "      <td>UG</td>\n",
       "    </tr>\n",
       "    <tr>\n",
       "      <th>2033</th>\n",
       "      <td>Total dietary fiber (AOAC 2011.25)</td>\n",
       "      <td>G</td>\n",
       "    </tr>\n",
       "    <tr>\n",
       "      <th>2047</th>\n",
       "      <td>Energy (Atwater General Factors)</td>\n",
       "      <td>KCAL</td>\n",
       "    </tr>\n",
       "    <tr>\n",
       "      <th>2048</th>\n",
       "      <td>Energy (Atwater Specific Factors)</td>\n",
       "      <td>KCAL</td>\n",
       "    </tr>\n",
       "  </tbody>\n",
       "</table>\n",
       "<p>237 rows × 2 columns</p>\n",
       "</div>"
      ],
      "text/plain": [
       "                                    name unit_name\n",
       "id                                                \n",
       "1002                            Nitrogen         G\n",
       "1003                             Protein         G\n",
       "1004                   Total lipid (fat)         G\n",
       "1005         Carbohydrate, by difference         G\n",
       "1007                                 Ash         G\n",
       "...                                  ...       ...\n",
       "2029                      trans-Lycopene        UG\n",
       "2032                Cryptoxanthin, alpha        UG\n",
       "2033  Total dietary fiber (AOAC 2011.25)         G\n",
       "2047    Energy (Atwater General Factors)      KCAL\n",
       "2048   Energy (Atwater Specific Factors)      KCAL\n",
       "\n",
       "[237 rows x 2 columns]"
      ]
     },
     "execution_count": 6,
     "metadata": {},
     "output_type": "execute_result"
    }
   ],
   "source": [
    "nut = pd.read_csv(\"./Health_Nutritions _databases/nutrient.csv\", usecols=['id', 'name', 'unit_name'],\n",
    "                 index_col='id')\n",
    "nut"
   ]
  },
  {
   "cell_type": "code",
   "execution_count": 22,
   "metadata": {},
   "outputs": [
    {
     "data": {
      "text/html": [
       "<div>\n",
       "<style scoped>\n",
       "    .dataframe tbody tr th:only-of-type {\n",
       "        vertical-align: middle;\n",
       "    }\n",
       "\n",
       "    .dataframe tbody tr th {\n",
       "        vertical-align: top;\n",
       "    }\n",
       "\n",
       "    .dataframe thead th {\n",
       "        text-align: right;\n",
       "    }\n",
       "</style>\n",
       "<table border=\"1\" class=\"dataframe\">\n",
       "  <thead>\n",
       "    <tr style=\"text-align: right;\">\n",
       "      <th></th>\n",
       "      <th>name</th>\n",
       "      <th>unit_name</th>\n",
       "    </tr>\n",
       "    <tr>\n",
       "      <th>id</th>\n",
       "      <th></th>\n",
       "      <th></th>\n",
       "    </tr>\n",
       "  </thead>\n",
       "  <tbody>\n",
       "    <tr>\n",
       "      <th>1003</th>\n",
       "      <td>Protein</td>\n",
       "      <td>G</td>\n",
       "    </tr>\n",
       "    <tr>\n",
       "      <th>1008</th>\n",
       "      <td>Energy</td>\n",
       "      <td>KCAL</td>\n",
       "    </tr>\n",
       "    <tr>\n",
       "      <th>1050</th>\n",
       "      <td>Carbohydrate, by summation</td>\n",
       "      <td>G</td>\n",
       "    </tr>\n",
       "    <tr>\n",
       "      <th>1062</th>\n",
       "      <td>Energy</td>\n",
       "      <td>kJ</td>\n",
       "    </tr>\n",
       "    <tr>\n",
       "      <th>1063</th>\n",
       "      <td>Sugars, Total NLEA</td>\n",
       "      <td>G</td>\n",
       "    </tr>\n",
       "    <tr>\n",
       "      <th>1258</th>\n",
       "      <td>Fatty acids, total saturated</td>\n",
       "      <td>G</td>\n",
       "    </tr>\n",
       "    <tr>\n",
       "      <th>1292</th>\n",
       "      <td>Fatty acids, total monounsaturated</td>\n",
       "      <td>G</td>\n",
       "    </tr>\n",
       "    <tr>\n",
       "      <th>1293</th>\n",
       "      <td>Fatty acids, total polyunsaturated</td>\n",
       "      <td>G</td>\n",
       "    </tr>\n",
       "  </tbody>\n",
       "</table>\n",
       "</div>"
      ],
      "text/plain": [
       "                                    name unit_name\n",
       "id                                                \n",
       "1003                             Protein         G\n",
       "1008                              Energy      KCAL\n",
       "1050          Carbohydrate, by summation         G\n",
       "1062                              Energy        kJ\n",
       "1063                  Sugars, Total NLEA         G\n",
       "1258        Fatty acids, total saturated         G\n",
       "1292  Fatty acids, total monounsaturated         G\n",
       "1293  Fatty acids, total polyunsaturated         G"
      ]
     },
     "execution_count": 22,
     "metadata": {},
     "output_type": "execute_result"
    }
   ],
   "source": [
    "nut_select = ['Protein', 'Energy', 'Carbohydrate, by summation', 'Sugars, Total NLEA', 'Fatty acids, total saturated', 'Fatty acids, total monounsaturated', 'Fatty acids, total polyunsaturated']\n",
    "importnut = nut[nut['name'].isin(nut_select)]\n",
    "importnut\n",
    "#nut select will be a roll-down list of elements to chose by an user"
   ]
  },
  {
   "cell_type": "code",
   "execution_count": 8,
   "metadata": {
    "scrolled": true
   },
   "outputs": [
    {
     "data": {
      "text/plain": [
       "[1003, 1008, 1050, 1062, 1063, 1258, 1292, 1293]"
      ]
     },
     "execution_count": 8,
     "metadata": {},
     "output_type": "execute_result"
    }
   ],
   "source": [
    "nut_list = list(importnut.index)\n",
    "nut_list #prepared list used later for narrowing spectrum "
   ]
  },
  {
   "cell_type": "markdown",
   "metadata": {},
   "source": [
    "# Review food nutrient table to decrease size of table"
   ]
  },
  {
   "cell_type": "code",
   "execution_count": 18,
   "metadata": {},
   "outputs": [],
   "source": [
    "food_nut = pd.read_csv(\"./Health_Nutritions _databases/food_nutrient.csv\", low_memory=False,\n",
    "                      usecols=['fdc_id', 'nutrient_id','amount'])"
   ]
  },
  {
   "cell_type": "code",
   "execution_count": 19,
   "metadata": {},
   "outputs": [
    {
     "data": {
      "text/html": [
       "<div>\n",
       "<style scoped>\n",
       "    .dataframe tbody tr th:only-of-type {\n",
       "        vertical-align: middle;\n",
       "    }\n",
       "\n",
       "    .dataframe tbody tr th {\n",
       "        vertical-align: top;\n",
       "    }\n",
       "\n",
       "    .dataframe thead th {\n",
       "        text-align: right;\n",
       "    }\n",
       "</style>\n",
       "<table border=\"1\" class=\"dataframe\">\n",
       "  <thead>\n",
       "    <tr style=\"text-align: right;\">\n",
       "      <th></th>\n",
       "      <th>fdc_id</th>\n",
       "      <th>nutrient_id</th>\n",
       "      <th>amount</th>\n",
       "    </tr>\n",
       "  </thead>\n",
       "  <tbody>\n",
       "    <tr>\n",
       "      <th>203</th>\n",
       "      <td>167512</td>\n",
       "      <td>1003</td>\n",
       "      <td>5.880</td>\n",
       "    </tr>\n",
       "    <tr>\n",
       "      <th>205</th>\n",
       "      <td>167512</td>\n",
       "      <td>1062</td>\n",
       "      <td>1286.000</td>\n",
       "    </tr>\n",
       "    <tr>\n",
       "      <th>211</th>\n",
       "      <td>167512</td>\n",
       "      <td>1258</td>\n",
       "      <td>2.941</td>\n",
       "    </tr>\n",
       "    <tr>\n",
       "      <th>214</th>\n",
       "      <td>167512</td>\n",
       "      <td>1008</td>\n",
       "      <td>307.000</td>\n",
       "    </tr>\n",
       "    <tr>\n",
       "      <th>217</th>\n",
       "      <td>167513</td>\n",
       "      <td>1003</td>\n",
       "      <td>4.340</td>\n",
       "    </tr>\n",
       "    <tr>\n",
       "      <th>...</th>\n",
       "      <td>...</td>\n",
       "      <td>...</td>\n",
       "      <td>...</td>\n",
       "    </tr>\n",
       "    <tr>\n",
       "      <th>7547652</th>\n",
       "      <td>1105781</td>\n",
       "      <td>1062</td>\n",
       "      <td>256.000</td>\n",
       "    </tr>\n",
       "    <tr>\n",
       "      <th>7547822</th>\n",
       "      <td>1105897</td>\n",
       "      <td>1063</td>\n",
       "      <td>12.600</td>\n",
       "    </tr>\n",
       "    <tr>\n",
       "      <th>7547840</th>\n",
       "      <td>1105897</td>\n",
       "      <td>1003</td>\n",
       "      <td>0.150</td>\n",
       "    </tr>\n",
       "    <tr>\n",
       "      <th>7547842</th>\n",
       "      <td>1105897</td>\n",
       "      <td>1008</td>\n",
       "      <td>65.000</td>\n",
       "    </tr>\n",
       "    <tr>\n",
       "      <th>7547843</th>\n",
       "      <td>1105897</td>\n",
       "      <td>1062</td>\n",
       "      <td>271.000</td>\n",
       "    </tr>\n",
       "  </tbody>\n",
       "</table>\n",
       "<p>1570233 rows × 3 columns</p>\n",
       "</div>"
      ],
      "text/plain": [
       "          fdc_id  nutrient_id    amount\n",
       "203       167512         1003     5.880\n",
       "205       167512         1062  1286.000\n",
       "211       167512         1258     2.941\n",
       "214       167512         1008   307.000\n",
       "217       167513         1003     4.340\n",
       "...          ...          ...       ...\n",
       "7547652  1105781         1062   256.000\n",
       "7547822  1105897         1063    12.600\n",
       "7547840  1105897         1003     0.150\n",
       "7547842  1105897         1008    65.000\n",
       "7547843  1105897         1062   271.000\n",
       "\n",
       "[1570233 rows x 3 columns]"
      ]
     },
     "execution_count": 19,
     "metadata": {},
     "output_type": "execute_result"
    }
   ],
   "source": [
    "food_nut[food_nut['nutrient_id'].isin(nut_list)]"
   ]
  },
  {
   "cell_type": "code",
   "execution_count": 20,
   "metadata": {},
   "outputs": [
    {
     "name": "stdout",
     "output_type": "stream",
     "text": [
      "<class 'pandas.core.frame.DataFrame'>\n",
      "RangeIndex: 7547844 entries, 0 to 7547843\n",
      "Data columns (total 3 columns):\n",
      " #   Column       Dtype  \n",
      "---  ------       -----  \n",
      " 0   fdc_id       int64  \n",
      " 1   nutrient_id  int64  \n",
      " 2   amount       float64\n",
      "dtypes: float64(1), int64(2)\n",
      "memory usage: 172.8 MB\n"
     ]
    }
   ],
   "source": [
    "food_nut.info(memory_usage='deep')"
   ]
  },
  {
   "cell_type": "markdown",
   "metadata": {},
   "source": [
    "# Review food table\n",
    "1) Filter food - using agricultural_acquisition - try to make data readable and usable for user"
   ]
  },
  {
   "cell_type": "code",
   "execution_count": 146,
   "metadata": {},
   "outputs": [
    {
     "data": {
      "text/html": [
       "<div>\n",
       "<style scoped>\n",
       "    .dataframe tbody tr th:only-of-type {\n",
       "        vertical-align: middle;\n",
       "    }\n",
       "\n",
       "    .dataframe tbody tr th {\n",
       "        vertical-align: top;\n",
       "    }\n",
       "\n",
       "    .dataframe thead th {\n",
       "        text-align: right;\n",
       "    }\n",
       "</style>\n",
       "<table border=\"1\" class=\"dataframe\">\n",
       "  <thead>\n",
       "    <tr style=\"text-align: right;\">\n",
       "      <th></th>\n",
       "      <th>fdc_id</th>\n",
       "      <th>data_type</th>\n",
       "      <th>description</th>\n",
       "    </tr>\n",
       "  </thead>\n",
       "  <tbody>\n",
       "    <tr>\n",
       "      <th>0</th>\n",
       "      <td>1105898</td>\n",
       "      <td>experimental_food</td>\n",
       "      <td>Metabolizable Energy of Almonds</td>\n",
       "    </tr>\n",
       "    <tr>\n",
       "      <th>1</th>\n",
       "      <td>1105899</td>\n",
       "      <td>experimental_food</td>\n",
       "      <td>Metabolizable Energy of Almonds, Food Processi...</td>\n",
       "    </tr>\n",
       "    <tr>\n",
       "      <th>2</th>\n",
       "      <td>1105900</td>\n",
       "      <td>experimental_food</td>\n",
       "      <td>Metabolizable Energy of Cashews</td>\n",
       "    </tr>\n",
       "    <tr>\n",
       "      <th>3</th>\n",
       "      <td>1105901</td>\n",
       "      <td>experimental_food</td>\n",
       "      <td>Metabolizable Energy of Pistachios</td>\n",
       "    </tr>\n",
       "    <tr>\n",
       "      <th>4</th>\n",
       "      <td>1105902</td>\n",
       "      <td>experimental_food</td>\n",
       "      <td>Metabolizable Energy of Walnuts</td>\n",
       "    </tr>\n",
       "    <tr>\n",
       "      <th>...</th>\n",
       "      <td>...</td>\n",
       "      <td>...</td>\n",
       "      <td>...</td>\n",
       "    </tr>\n",
       "    <tr>\n",
       "      <th>533607</th>\n",
       "      <td>1105893</td>\n",
       "      <td>sub_sample_food</td>\n",
       "      <td>APPLES, FUJI</td>\n",
       "    </tr>\n",
       "    <tr>\n",
       "      <th>533608</th>\n",
       "      <td>1105894</td>\n",
       "      <td>sub_sample_food</td>\n",
       "      <td>APPLES, FUJI</td>\n",
       "    </tr>\n",
       "    <tr>\n",
       "      <th>533609</th>\n",
       "      <td>1105895</td>\n",
       "      <td>sub_sample_food</td>\n",
       "      <td>APPLES, FUJI</td>\n",
       "    </tr>\n",
       "    <tr>\n",
       "      <th>533610</th>\n",
       "      <td>1105896</td>\n",
       "      <td>sub_sample_food</td>\n",
       "      <td>APPLES, FUJI</td>\n",
       "    </tr>\n",
       "    <tr>\n",
       "      <th>533611</th>\n",
       "      <td>1105897</td>\n",
       "      <td>foundation_food</td>\n",
       "      <td>Apples, fuji, with skin, raw</td>\n",
       "    </tr>\n",
       "  </tbody>\n",
       "</table>\n",
       "<p>533612 rows × 3 columns</p>\n",
       "</div>"
      ],
      "text/plain": [
       "         fdc_id          data_type  \\\n",
       "0       1105898  experimental_food   \n",
       "1       1105899  experimental_food   \n",
       "2       1105900  experimental_food   \n",
       "3       1105901  experimental_food   \n",
       "4       1105902  experimental_food   \n",
       "...         ...                ...   \n",
       "533607  1105893    sub_sample_food   \n",
       "533608  1105894    sub_sample_food   \n",
       "533609  1105895    sub_sample_food   \n",
       "533610  1105896    sub_sample_food   \n",
       "533611  1105897    foundation_food   \n",
       "\n",
       "                                              description  \n",
       "0                         Metabolizable Energy of Almonds  \n",
       "1       Metabolizable Energy of Almonds, Food Processi...  \n",
       "2                         Metabolizable Energy of Cashews  \n",
       "3                      Metabolizable Energy of Pistachios  \n",
       "4                         Metabolizable Energy of Walnuts  \n",
       "...                                                   ...  \n",
       "533607                                       APPLES, FUJI  \n",
       "533608                                       APPLES, FUJI  \n",
       "533609                                       APPLES, FUJI  \n",
       "533610                                       APPLES, FUJI  \n",
       "533611                       Apples, fuji, with skin, raw  \n",
       "\n",
       "[533612 rows x 3 columns]"
      ]
     },
     "execution_count": 146,
     "metadata": {},
     "output_type": "execute_result"
    }
   ],
   "source": [
    "data = pd.read_csv(\"./Health_Nutritions _databases/food.csv\", low_memory=False,\n",
    "                      usecols=['fdc_id', 'data_type', 'description'])\n",
    "data"
   ]
  },
  {
   "cell_type": "code",
   "execution_count": 147,
   "metadata": {},
   "outputs": [],
   "source": [
    "#market_acquistion = data.where(data['data_type'] == 'market_acquistion').dropna()\n"
   ]
  },
  {
   "cell_type": "code",
   "execution_count": 148,
   "metadata": {},
   "outputs": [
    {
     "data": {
      "text/plain": [
       "0      335241\n",
       "1      335242\n",
       "2      335243\n",
       "3      335244\n",
       "4      335246\n",
       "        ...  \n",
       "805    336062\n",
       "806    336063\n",
       "807    336064\n",
       "808    336065\n",
       "809    336066\n",
       "Name: fdc_id, Length: 810, dtype: int64"
      ]
     },
     "execution_count": 148,
     "metadata": {},
     "output_type": "execute_result"
    }
   ],
   "source": [
    "agricultural_acquisition = pd.read_csv(\"./Health_Nutritions _databases/agricultural_acquisition.csv\")\n",
    "agricultural_acquisition['fdc_id']"
   ]
  },
  {
   "cell_type": "code",
   "execution_count": 149,
   "metadata": {},
   "outputs": [
    {
     "data": {
      "text/html": [
       "<div>\n",
       "<style scoped>\n",
       "    .dataframe tbody tr th:only-of-type {\n",
       "        vertical-align: middle;\n",
       "    }\n",
       "\n",
       "    .dataframe tbody tr th {\n",
       "        vertical-align: top;\n",
       "    }\n",
       "\n",
       "    .dataframe thead th {\n",
       "        text-align: right;\n",
       "    }\n",
       "</style>\n",
       "<table border=\"1\" class=\"dataframe\">\n",
       "  <thead>\n",
       "    <tr style=\"text-align: right;\">\n",
       "      <th></th>\n",
       "      <th>fdc_id</th>\n",
       "      <th>data_type</th>\n",
       "      <th>description</th>\n",
       "    </tr>\n",
       "  </thead>\n",
       "  <tbody>\n",
       "  </tbody>\n",
       "</table>\n",
       "</div>"
      ],
      "text/plain": [
       "Empty DataFrame\n",
       "Columns: [fdc_id, data_type, description]\n",
       "Index: []"
      ]
     },
     "execution_count": 149,
     "metadata": {},
     "output_type": "execute_result"
    }
   ],
   "source": [
    "data[data.isin(agricultural_acquisition)].dropna()"
   ]
  },
  {
   "cell_type": "code",
   "execution_count": 150,
   "metadata": {},
   "outputs": [
    {
     "name": "stdout",
     "output_type": "stream",
     "text": [
      "Insert searching product: Egg\n"
     ]
    },
    {
     "data": {
      "text/html": [
       "<div>\n",
       "<style scoped>\n",
       "    .dataframe tbody tr th:only-of-type {\n",
       "        vertical-align: middle;\n",
       "    }\n",
       "\n",
       "    .dataframe tbody tr th {\n",
       "        vertical-align: top;\n",
       "    }\n",
       "\n",
       "    .dataframe thead th {\n",
       "        text-align: right;\n",
       "    }\n",
       "</style>\n",
       "<table border=\"1\" class=\"dataframe\">\n",
       "  <thead>\n",
       "    <tr style=\"text-align: right;\">\n",
       "      <th></th>\n",
       "      <th>data_type</th>\n",
       "      <th>description</th>\n",
       "    </tr>\n",
       "    <tr>\n",
       "      <th>fdc_id</th>\n",
       "      <th></th>\n",
       "      <th></th>\n",
       "    </tr>\n",
       "  </thead>\n",
       "  <tbody>\n",
       "    <tr>\n",
       "      <th>748916</th>\n",
       "      <td>sample_food</td>\n",
       "      <td>Eggs, whole</td>\n",
       "    </tr>\n",
       "  </tbody>\n",
       "</table>\n",
       "</div>"
      ],
      "text/plain": [
       "          data_type  description\n",
       "fdc_id                          \n",
       "748916  sample_food  Eggs, whole"
      ]
     },
     "execution_count": 150,
     "metadata": {},
     "output_type": "execute_result"
    }
   ],
   "source": [
    "search_word = input(\"Insert searching product: \")\n",
    "search_list = sample_food.where(sample_food['description'].str.contains(search_word)).dropna(how='all')\n",
    "search_list"
   ]
  },
  {
   "cell_type": "code",
   "execution_count": null,
   "metadata": {},
   "outputs": [],
   "source": []
  }
 ],
 "metadata": {
  "kernelspec": {
   "display_name": "Python 3",
   "language": "python",
   "name": "python3"
  },
  "language_info": {
   "codemirror_mode": {
    "name": "ipython",
    "version": 3
   },
   "file_extension": ".py",
   "mimetype": "text/x-python",
   "name": "python",
   "nbconvert_exporter": "python",
   "pygments_lexer": "ipython3",
   "version": "3.8.5"
  }
 },
 "nbformat": 4,
 "nbformat_minor": 4
}
