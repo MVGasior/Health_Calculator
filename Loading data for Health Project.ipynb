{
 "cells": [
  {
   "cell_type": "code",
   "execution_count": 62,
   "metadata": {},
   "outputs": [],
   "source": [
    "import numpy as np\n",
    "import pandas as pd\n",
    "import matplotlib.pyplot as plt\n",
    "import os\n",
    "from sqlalchemy import create_engine"
   ]
  },
  {
   "cell_type": "code",
   "execution_count": 63,
   "metadata": {},
   "outputs": [],
   "source": [
    "os.chdir('./')"
   ]
  },
  {
   "cell_type": "markdown",
   "metadata": {},
   "source": [
    "# Review nutrient table and get only important values for us"
   ]
  },
  {
   "cell_type": "code",
   "execution_count": 99,
   "metadata": {},
   "outputs": [],
   "source": [
    "nut = pd.read_csv(\"./Health_Nutritions _databases/nutrient.csv\", usecols=['id', 'name', 'unit_name'])"
   ]
  },
  {
   "cell_type": "code",
   "execution_count": 100,
   "metadata": {},
   "outputs": [
    {
     "data": {
      "text/html": [
       "<div>\n",
       "<style scoped>\n",
       "    .dataframe tbody tr th:only-of-type {\n",
       "        vertical-align: middle;\n",
       "    }\n",
       "\n",
       "    .dataframe tbody tr th {\n",
       "        vertical-align: top;\n",
       "    }\n",
       "\n",
       "    .dataframe thead th {\n",
       "        text-align: right;\n",
       "    }\n",
       "</style>\n",
       "<table border=\"1\" class=\"dataframe\">\n",
       "  <thead>\n",
       "    <tr style=\"text-align: right;\">\n",
       "      <th></th>\n",
       "      <th>id</th>\n",
       "      <th>name</th>\n",
       "      <th>unit_name</th>\n",
       "    </tr>\n",
       "  </thead>\n",
       "  <tbody>\n",
       "    <tr>\n",
       "      <th>1</th>\n",
       "      <td>1003</td>\n",
       "      <td>Protein</td>\n",
       "      <td>G</td>\n",
       "    </tr>\n",
       "    <tr>\n",
       "      <th>3</th>\n",
       "      <td>1005</td>\n",
       "      <td>Carbohydrate, by difference</td>\n",
       "      <td>G</td>\n",
       "    </tr>\n",
       "    <tr>\n",
       "      <th>5</th>\n",
       "      <td>1008</td>\n",
       "      <td>Energy</td>\n",
       "      <td>KCAL</td>\n",
       "    </tr>\n",
       "    <tr>\n",
       "      <th>23</th>\n",
       "      <td>1062</td>\n",
       "      <td>Energy</td>\n",
       "      <td>kJ</td>\n",
       "    </tr>\n",
       "    <tr>\n",
       "      <th>24</th>\n",
       "      <td>1063</td>\n",
       "      <td>Sugars, Total NLEA</td>\n",
       "      <td>G</td>\n",
       "    </tr>\n",
       "    <tr>\n",
       "      <th>136</th>\n",
       "      <td>1258</td>\n",
       "      <td>Fatty acids, total saturated</td>\n",
       "      <td>G</td>\n",
       "    </tr>\n",
       "    <tr>\n",
       "      <th>166</th>\n",
       "      <td>1292</td>\n",
       "      <td>Fatty acids, total monounsaturated</td>\n",
       "      <td>G</td>\n",
       "    </tr>\n",
       "    <tr>\n",
       "      <th>167</th>\n",
       "      <td>1293</td>\n",
       "      <td>Fatty acids, total polyunsaturated</td>\n",
       "      <td>G</td>\n",
       "    </tr>\n",
       "  </tbody>\n",
       "</table>\n",
       "</div>"
      ],
      "text/plain": [
       "       id                                name unit_name\n",
       "1    1003                             Protein         G\n",
       "3    1005         Carbohydrate, by difference         G\n",
       "5    1008                              Energy      KCAL\n",
       "23   1062                              Energy        kJ\n",
       "24   1063                  Sugars, Total NLEA         G\n",
       "136  1258        Fatty acids, total saturated         G\n",
       "166  1292  Fatty acids, total monounsaturated         G\n",
       "167  1293  Fatty acids, total polyunsaturated         G"
      ]
     },
     "execution_count": 100,
     "metadata": {},
     "output_type": "execute_result"
    }
   ],
   "source": [
    "nut_select = ['Protein', 'Energy', 'Carbohydrate, by difference', 'Sugars, Total NLEA', 'Fatty acids, total saturated', 'Fatty acids, total monounsaturated', 'Fatty acids, total polyunsaturated']\n",
    "importnut = nut[nut['name'].isin(nut_select)]\n",
    "importnut #Tabel of nutients, that will be considered"
   ]
  },
  {
   "cell_type": "code",
   "execution_count": 101,
   "metadata": {
    "scrolled": true
   },
   "outputs": [
    {
     "data": {
      "text/plain": [
       "[1003, 1005, 1008, 1062, 1063, 1258, 1292, 1293]"
      ]
     },
     "execution_count": 101,
     "metadata": {},
     "output_type": "execute_result"
    }
   ],
   "source": [
    "nut_list = list(importnut['id'])\n",
    "nut_list #prepared list used later for narrowing spectrum "
   ]
  },
  {
   "cell_type": "markdown",
   "metadata": {},
   "source": [
    "# Review food nutrient table"
   ]
  },
  {
   "cell_type": "code",
   "execution_count": 102,
   "metadata": {},
   "outputs": [],
   "source": [
    "food_nut = pd.read_csv(\"./Health_Nutritions _databases/food_nutrient.csv\", low_memory=False,\n",
    "                      usecols=['fdc_id', 'nutrient_id','amount'])"
   ]
  },
  {
   "cell_type": "code",
   "execution_count": 68,
   "metadata": {},
   "outputs": [],
   "source": [
    "food_nut = food_nut[food_nut['nutrient_id'].isin(nut_list)]"
   ]
  },
  {
   "cell_type": "markdown",
   "metadata": {},
   "source": [
    "# Review food table"
   ]
  },
  {
   "cell_type": "code",
   "execution_count": 70,
   "metadata": {},
   "outputs": [
    {
     "data": {
      "text/html": [
       "<div>\n",
       "<style scoped>\n",
       "    .dataframe tbody tr th:only-of-type {\n",
       "        vertical-align: middle;\n",
       "    }\n",
       "\n",
       "    .dataframe tbody tr th {\n",
       "        vertical-align: top;\n",
       "    }\n",
       "\n",
       "    .dataframe thead th {\n",
       "        text-align: right;\n",
       "    }\n",
       "</style>\n",
       "<table border=\"1\" class=\"dataframe\">\n",
       "  <thead>\n",
       "    <tr style=\"text-align: right;\">\n",
       "      <th></th>\n",
       "      <th>data_type</th>\n",
       "      <th>description</th>\n",
       "    </tr>\n",
       "    <tr>\n",
       "      <th>fdc_id</th>\n",
       "      <th></th>\n",
       "      <th></th>\n",
       "    </tr>\n",
       "  </thead>\n",
       "  <tbody>\n",
       "    <tr>\n",
       "      <th>1105898</th>\n",
       "      <td>experimental_food</td>\n",
       "      <td>Metabolizable Energy of Almonds</td>\n",
       "    </tr>\n",
       "    <tr>\n",
       "      <th>1105899</th>\n",
       "      <td>experimental_food</td>\n",
       "      <td>Metabolizable Energy of Almonds, Food Processi...</td>\n",
       "    </tr>\n",
       "    <tr>\n",
       "      <th>1105900</th>\n",
       "      <td>experimental_food</td>\n",
       "      <td>Metabolizable Energy of Cashews</td>\n",
       "    </tr>\n",
       "    <tr>\n",
       "      <th>1105901</th>\n",
       "      <td>experimental_food</td>\n",
       "      <td>Metabolizable Energy of Pistachios</td>\n",
       "    </tr>\n",
       "    <tr>\n",
       "      <th>1105902</th>\n",
       "      <td>experimental_food</td>\n",
       "      <td>Metabolizable Energy of Walnuts</td>\n",
       "    </tr>\n",
       "    <tr>\n",
       "      <th>...</th>\n",
       "      <td>...</td>\n",
       "      <td>...</td>\n",
       "    </tr>\n",
       "    <tr>\n",
       "      <th>1105893</th>\n",
       "      <td>sub_sample_food</td>\n",
       "      <td>APPLES, FUJI</td>\n",
       "    </tr>\n",
       "    <tr>\n",
       "      <th>1105894</th>\n",
       "      <td>sub_sample_food</td>\n",
       "      <td>APPLES, FUJI</td>\n",
       "    </tr>\n",
       "    <tr>\n",
       "      <th>1105895</th>\n",
       "      <td>sub_sample_food</td>\n",
       "      <td>APPLES, FUJI</td>\n",
       "    </tr>\n",
       "    <tr>\n",
       "      <th>1105896</th>\n",
       "      <td>sub_sample_food</td>\n",
       "      <td>APPLES, FUJI</td>\n",
       "    </tr>\n",
       "    <tr>\n",
       "      <th>1105897</th>\n",
       "      <td>foundation_food</td>\n",
       "      <td>Apples, fuji, with skin, raw</td>\n",
       "    </tr>\n",
       "  </tbody>\n",
       "</table>\n",
       "<p>533612 rows × 2 columns</p>\n",
       "</div>"
      ],
      "text/plain": [
       "                 data_type                                        description\n",
       "fdc_id                                                                       \n",
       "1105898  experimental_food                    Metabolizable Energy of Almonds\n",
       "1105899  experimental_food  Metabolizable Energy of Almonds, Food Processi...\n",
       "1105900  experimental_food                    Metabolizable Energy of Cashews\n",
       "1105901  experimental_food                 Metabolizable Energy of Pistachios\n",
       "1105902  experimental_food                    Metabolizable Energy of Walnuts\n",
       "...                    ...                                                ...\n",
       "1105893    sub_sample_food                                       APPLES, FUJI\n",
       "1105894    sub_sample_food                                       APPLES, FUJI\n",
       "1105895    sub_sample_food                                       APPLES, FUJI\n",
       "1105896    sub_sample_food                                       APPLES, FUJI\n",
       "1105897    foundation_food                       Apples, fuji, with skin, raw\n",
       "\n",
       "[533612 rows x 2 columns]"
      ]
     },
     "execution_count": 70,
     "metadata": {},
     "output_type": "execute_result"
    }
   ],
   "source": [
    "data = pd.read_csv(\"./Health_Nutritions _databases/food.csv\", low_memory=False,\n",
    "                  usecols=['fdc_id', 'data_type', 'description'], index_col='fdc_id')\n",
    "data"
   ]
  },
  {
   "cell_type": "markdown",
   "metadata": {},
   "source": [
    "##### Import excel sheet to import your own products\n",
    "\n",
    "own_data = pd.DataFrame({\"Name\":{}, \"Protein\":{}, \"Carbs\":{}, \"Sugar\":{}, \"F. Saturared\":{}, \"F. Monoun-\":{},\n",
    "                         \"F. Poliun-\":{}, \"Kcal\":{}})\n",
    "own_data"
   ]
  },
  {
   "cell_type": "code",
   "execution_count": 98,
   "metadata": {},
   "outputs": [
    {
     "name": "stdout",
     "output_type": "stream",
     "text": [
      "Insert searching product: Egg, whole\n"
     ]
    },
    {
     "data": {
      "text/html": [
       "<div>\n",
       "<style scoped>\n",
       "    .dataframe tbody tr th:only-of-type {\n",
       "        vertical-align: middle;\n",
       "    }\n",
       "\n",
       "    .dataframe tbody tr th {\n",
       "        vertical-align: top;\n",
       "    }\n",
       "\n",
       "    .dataframe thead th {\n",
       "        text-align: right;\n",
       "    }\n",
       "</style>\n",
       "<table border=\"1\" class=\"dataframe\">\n",
       "  <thead>\n",
       "    <tr style=\"text-align: right;\">\n",
       "      <th></th>\n",
       "      <th>data_type</th>\n",
       "      <th>description</th>\n",
       "    </tr>\n",
       "    <tr>\n",
       "      <th>fdc_id</th>\n",
       "      <th></th>\n",
       "      <th></th>\n",
       "    </tr>\n",
       "  </thead>\n",
       "  <tbody>\n",
       "    <tr>\n",
       "      <th>170893</th>\n",
       "      <td>sr_legacy_food</td>\n",
       "      <td>Egg, whole, raw, frozen, salted, pasteurized</td>\n",
       "    </tr>\n",
       "    <tr>\n",
       "      <th>171287</th>\n",
       "      <td>sr_legacy_food</td>\n",
       "      <td>Egg, whole, raw, fresh</td>\n",
       "    </tr>\n",
       "    <tr>\n",
       "      <th>172185</th>\n",
       "      <td>sr_legacy_food</td>\n",
       "      <td>Egg, whole, cooked, omelet</td>\n",
       "    </tr>\n",
       "    <tr>\n",
       "      <th>172186</th>\n",
       "      <td>sr_legacy_food</td>\n",
       "      <td>Egg, whole, cooked, poached</td>\n",
       "    </tr>\n",
       "    <tr>\n",
       "      <th>172187</th>\n",
       "      <td>sr_legacy_food</td>\n",
       "      <td>Egg, whole, cooked, scrambled</td>\n",
       "    </tr>\n",
       "    <tr>\n",
       "      <th>172188</th>\n",
       "      <td>sr_legacy_food</td>\n",
       "      <td>Egg, whole, dried</td>\n",
       "    </tr>\n",
       "    <tr>\n",
       "      <th>172202</th>\n",
       "      <td>sr_legacy_food</td>\n",
       "      <td>Egg, whole, raw, frozen, pasteurized (Includes...</td>\n",
       "    </tr>\n",
       "    <tr>\n",
       "      <th>173423</th>\n",
       "      <td>sr_legacy_food</td>\n",
       "      <td>Egg, whole, cooked, fried</td>\n",
       "    </tr>\n",
       "    <tr>\n",
       "      <th>173424</th>\n",
       "      <td>sr_legacy_food</td>\n",
       "      <td>Egg, whole, cooked, hard-boiled</td>\n",
       "    </tr>\n",
       "    <tr>\n",
       "      <th>173425</th>\n",
       "      <td>sr_legacy_food</td>\n",
       "      <td>Egg, whole, dried, stabilized, glucose reduced</td>\n",
       "    </tr>\n",
       "    <tr>\n",
       "      <th>323604</th>\n",
       "      <td>foundation_food</td>\n",
       "      <td>Egg, whole, raw, frozen, pasteurized</td>\n",
       "    </tr>\n",
       "    <tr>\n",
       "      <th>329490</th>\n",
       "      <td>foundation_food</td>\n",
       "      <td>Egg, whole, dried</td>\n",
       "    </tr>\n",
       "    <tr>\n",
       "      <th>1100183</th>\n",
       "      <td>survey_fndds_food</td>\n",
       "      <td>Egg, whole, raw</td>\n",
       "    </tr>\n",
       "    <tr>\n",
       "      <th>1100184</th>\n",
       "      <td>survey_fndds_food</td>\n",
       "      <td>Egg, whole, cooked, NS as to cooking method</td>\n",
       "    </tr>\n",
       "    <tr>\n",
       "      <th>1100185</th>\n",
       "      <td>survey_fndds_food</td>\n",
       "      <td>Egg, whole, boiled or poached</td>\n",
       "    </tr>\n",
       "    <tr>\n",
       "      <th>1100186</th>\n",
       "      <td>survey_fndds_food</td>\n",
       "      <td>Egg, whole, fried, NS as to fat</td>\n",
       "    </tr>\n",
       "    <tr>\n",
       "      <th>1100187</th>\n",
       "      <td>survey_fndds_food</td>\n",
       "      <td>Egg, whole, fried no added fat</td>\n",
       "    </tr>\n",
       "    <tr>\n",
       "      <th>1100188</th>\n",
       "      <td>survey_fndds_food</td>\n",
       "      <td>Egg, whole, fried with margarine</td>\n",
       "    </tr>\n",
       "    <tr>\n",
       "      <th>1100189</th>\n",
       "      <td>survey_fndds_food</td>\n",
       "      <td>Egg, whole, fried with oil</td>\n",
       "    </tr>\n",
       "    <tr>\n",
       "      <th>1100190</th>\n",
       "      <td>survey_fndds_food</td>\n",
       "      <td>Egg, whole, fried with butter</td>\n",
       "    </tr>\n",
       "    <tr>\n",
       "      <th>1100191</th>\n",
       "      <td>survey_fndds_food</td>\n",
       "      <td>Egg, whole, fried with animal fat or meat drip...</td>\n",
       "    </tr>\n",
       "    <tr>\n",
       "      <th>1100192</th>\n",
       "      <td>survey_fndds_food</td>\n",
       "      <td>Egg, whole, fried with cooking spray</td>\n",
       "    </tr>\n",
       "    <tr>\n",
       "      <th>1100193</th>\n",
       "      <td>survey_fndds_food</td>\n",
       "      <td>Egg, whole, fried, NS as to fat type</td>\n",
       "    </tr>\n",
       "    <tr>\n",
       "      <th>1100194</th>\n",
       "      <td>survey_fndds_food</td>\n",
       "      <td>Egg, whole, fried, from fast food / restaurant</td>\n",
       "    </tr>\n",
       "    <tr>\n",
       "      <th>1100195</th>\n",
       "      <td>survey_fndds_food</td>\n",
       "      <td>Egg, whole, baked, NS as to fat</td>\n",
       "    </tr>\n",
       "    <tr>\n",
       "      <th>1100196</th>\n",
       "      <td>survey_fndds_food</td>\n",
       "      <td>Egg, whole, baked, no added fat</td>\n",
       "    </tr>\n",
       "    <tr>\n",
       "      <th>1100197</th>\n",
       "      <td>survey_fndds_food</td>\n",
       "      <td>Egg, whole, baked, fat added</td>\n",
       "    </tr>\n",
       "    <tr>\n",
       "      <th>1100198</th>\n",
       "      <td>survey_fndds_food</td>\n",
       "      <td>Egg, whole, pickled</td>\n",
       "    </tr>\n",
       "  </tbody>\n",
       "</table>\n",
       "</div>"
      ],
      "text/plain": [
       "                 data_type                                        description\n",
       "fdc_id                                                                       \n",
       "170893      sr_legacy_food       Egg, whole, raw, frozen, salted, pasteurized\n",
       "171287      sr_legacy_food                             Egg, whole, raw, fresh\n",
       "172185      sr_legacy_food                         Egg, whole, cooked, omelet\n",
       "172186      sr_legacy_food                        Egg, whole, cooked, poached\n",
       "172187      sr_legacy_food                      Egg, whole, cooked, scrambled\n",
       "172188      sr_legacy_food                                  Egg, whole, dried\n",
       "172202      sr_legacy_food  Egg, whole, raw, frozen, pasteurized (Includes...\n",
       "173423      sr_legacy_food                          Egg, whole, cooked, fried\n",
       "173424      sr_legacy_food                    Egg, whole, cooked, hard-boiled\n",
       "173425      sr_legacy_food     Egg, whole, dried, stabilized, glucose reduced\n",
       "323604     foundation_food               Egg, whole, raw, frozen, pasteurized\n",
       "329490     foundation_food                                  Egg, whole, dried\n",
       "1100183  survey_fndds_food                                    Egg, whole, raw\n",
       "1100184  survey_fndds_food        Egg, whole, cooked, NS as to cooking method\n",
       "1100185  survey_fndds_food                     Egg, whole, boiled or poached \n",
       "1100186  survey_fndds_food                    Egg, whole, fried, NS as to fat\n",
       "1100187  survey_fndds_food                     Egg, whole, fried no added fat\n",
       "1100188  survey_fndds_food                   Egg, whole, fried with margarine\n",
       "1100189  survey_fndds_food                         Egg, whole, fried with oil\n",
       "1100190  survey_fndds_food                      Egg, whole, fried with butter\n",
       "1100191  survey_fndds_food  Egg, whole, fried with animal fat or meat drip...\n",
       "1100192  survey_fndds_food               Egg, whole, fried with cooking spray\n",
       "1100193  survey_fndds_food               Egg, whole, fried, NS as to fat type\n",
       "1100194  survey_fndds_food     Egg, whole, fried, from fast food / restaurant\n",
       "1100195  survey_fndds_food                    Egg, whole, baked, NS as to fat\n",
       "1100196  survey_fndds_food                    Egg, whole, baked, no added fat\n",
       "1100197  survey_fndds_food                       Egg, whole, baked, fat added\n",
       "1100198  survey_fndds_food                                Egg, whole, pickled"
      ]
     },
     "execution_count": 98,
     "metadata": {},
     "output_type": "execute_result"
    }
   ],
   "source": [
    "search_word = input(\"Insert searching product: \")\n",
    "search_list = data.where(data['description'].str.contains(search_word)).dropna(how='all') \n",
    "              #and own_data.where(own_data['Name'].str.contains(search_word)).dropna(how='all')\n",
    "                \n",
    "search_list"
   ]
  },
  {
   "cell_type": "markdown",
   "metadata": {},
   "source": [
    "# Return nutrient values for choose product (fdc_id)"
   ]
  },
  {
   "cell_type": "code",
   "execution_count": 77,
   "metadata": {},
   "outputs": [
    {
     "name": "stdout",
     "output_type": "stream",
     "text": [
      "Insert fdc_id of product: 172186\n"
     ]
    },
    {
     "data": {
      "text/html": [
       "<div>\n",
       "<style scoped>\n",
       "    .dataframe tbody tr th:only-of-type {\n",
       "        vertical-align: middle;\n",
       "    }\n",
       "\n",
       "    .dataframe tbody tr th {\n",
       "        vertical-align: top;\n",
       "    }\n",
       "\n",
       "    .dataframe thead th {\n",
       "        text-align: right;\n",
       "    }\n",
       "</style>\n",
       "<table border=\"1\" class=\"dataframe\">\n",
       "  <thead>\n",
       "    <tr style=\"text-align: right;\">\n",
       "      <th></th>\n",
       "      <th>fdc_id</th>\n",
       "      <th>id</th>\n",
       "      <th>amount</th>\n",
       "    </tr>\n",
       "  </thead>\n",
       "  <tbody>\n",
       "    <tr>\n",
       "      <th>391494</th>\n",
       "      <td>172186.0</td>\n",
       "      <td>1008.0</td>\n",
       "      <td>143.000</td>\n",
       "    </tr>\n",
       "    <tr>\n",
       "      <th>391495</th>\n",
       "      <td>172186.0</td>\n",
       "      <td>1062.0</td>\n",
       "      <td>597.000</td>\n",
       "    </tr>\n",
       "    <tr>\n",
       "      <th>391522</th>\n",
       "      <td>172186.0</td>\n",
       "      <td>1292.0</td>\n",
       "      <td>3.643</td>\n",
       "    </tr>\n",
       "    <tr>\n",
       "      <th>391523</th>\n",
       "      <td>172186.0</td>\n",
       "      <td>1293.0</td>\n",
       "      <td>1.904</td>\n",
       "    </tr>\n",
       "    <tr>\n",
       "      <th>391536</th>\n",
       "      <td>172186.0</td>\n",
       "      <td>1005.0</td>\n",
       "      <td>0.710</td>\n",
       "    </tr>\n",
       "    <tr>\n",
       "      <th>391543</th>\n",
       "      <td>172186.0</td>\n",
       "      <td>1003.0</td>\n",
       "      <td>12.510</td>\n",
       "    </tr>\n",
       "    <tr>\n",
       "      <th>391566</th>\n",
       "      <td>172186.0</td>\n",
       "      <td>1258.0</td>\n",
       "      <td>3.113</td>\n",
       "    </tr>\n",
       "  </tbody>\n",
       "</table>\n",
       "</div>"
      ],
      "text/plain": [
       "          fdc_id      id   amount\n",
       "391494  172186.0  1008.0  143.000\n",
       "391495  172186.0  1062.0  597.000\n",
       "391522  172186.0  1292.0    3.643\n",
       "391523  172186.0  1293.0    1.904\n",
       "391536  172186.0  1005.0    0.710\n",
       "391543  172186.0  1003.0   12.510\n",
       "391566  172186.0  1258.0    3.113"
      ]
     },
     "execution_count": 77,
     "metadata": {},
     "output_type": "execute_result"
    }
   ],
   "source": [
    "fdc = int(input(\"Insert fdc_id of product: \"))\n",
    "work = food_nut.where(food_nut['fdc_id'] == fdc).dropna().rename(columns = {\"nutrient_id\": \"id\"})\n",
    "work"
   ]
  },
  {
   "cell_type": "markdown",
   "metadata": {},
   "source": [
    "# Display how much nutritions for selected portion"
   ]
  },
  {
   "cell_type": "code",
   "execution_count": 78,
   "metadata": {},
   "outputs": [
    {
     "name": "stdout",
     "output_type": "stream",
     "text": [
      "How much of the selected product [g]: 180\n"
     ]
    },
    {
     "data": {
      "text/html": [
       "<div>\n",
       "<style scoped>\n",
       "    .dataframe tbody tr th:only-of-type {\n",
       "        vertical-align: middle;\n",
       "    }\n",
       "\n",
       "    .dataframe tbody tr th {\n",
       "        vertical-align: top;\n",
       "    }\n",
       "\n",
       "    .dataframe thead th {\n",
       "        text-align: right;\n",
       "    }\n",
       "</style>\n",
       "<table border=\"1\" class=\"dataframe\">\n",
       "  <thead>\n",
       "    <tr style=\"text-align: right;\">\n",
       "      <th></th>\n",
       "      <th>amount</th>\n",
       "      <th>name</th>\n",
       "      <th>unit_name</th>\n",
       "    </tr>\n",
       "  </thead>\n",
       "  <tbody>\n",
       "    <tr>\n",
       "      <th>0</th>\n",
       "      <td>22.5180</td>\n",
       "      <td>Protein</td>\n",
       "      <td>G</td>\n",
       "    </tr>\n",
       "    <tr>\n",
       "      <th>1</th>\n",
       "      <td>1.2780</td>\n",
       "      <td>Carbohydrate, by difference</td>\n",
       "      <td>G</td>\n",
       "    </tr>\n",
       "    <tr>\n",
       "      <th>2</th>\n",
       "      <td>257.4000</td>\n",
       "      <td>Energy</td>\n",
       "      <td>KCAL</td>\n",
       "    </tr>\n",
       "    <tr>\n",
       "      <th>3</th>\n",
       "      <td>1074.6000</td>\n",
       "      <td>Energy</td>\n",
       "      <td>kJ</td>\n",
       "    </tr>\n",
       "    <tr>\n",
       "      <th>4</th>\n",
       "      <td>5.6034</td>\n",
       "      <td>Fatty acids, total saturated</td>\n",
       "      <td>G</td>\n",
       "    </tr>\n",
       "    <tr>\n",
       "      <th>5</th>\n",
       "      <td>6.5574</td>\n",
       "      <td>Fatty acids, total monounsaturated</td>\n",
       "      <td>G</td>\n",
       "    </tr>\n",
       "    <tr>\n",
       "      <th>6</th>\n",
       "      <td>3.4272</td>\n",
       "      <td>Fatty acids, total polyunsaturated</td>\n",
       "      <td>G</td>\n",
       "    </tr>\n",
       "  </tbody>\n",
       "</table>\n",
       "</div>"
      ],
      "text/plain": [
       "      amount                                name unit_name\n",
       "0    22.5180                             Protein         G\n",
       "1     1.2780         Carbohydrate, by difference         G\n",
       "2   257.4000                              Energy      KCAL\n",
       "3  1074.6000                              Energy        kJ\n",
       "4     5.6034        Fatty acids, total saturated         G\n",
       "5     6.5574  Fatty acids, total monounsaturated         G\n",
       "6     3.4272  Fatty acids, total polyunsaturated         G"
      ]
     },
     "execution_count": 78,
     "metadata": {},
     "output_type": "execute_result"
    }
   ],
   "source": [
    "weight = float(input(\"How much of the selected product [g]: \"))\n",
    "result = pd.merge(importnut, work)[[\"amount\", \"name\", \"unit_name\"]]\n",
    "result[\"amount\"] = result[\"amount\"] * weight/100\n",
    "result"
   ]
  },
  {
   "cell_type": "markdown",
   "metadata": {},
   "source": [
    "# Selected result sub from our daily needs"
   ]
  },
  {
   "cell_type": "code",
   "execution_count": 79,
   "metadata": {},
   "outputs": [
    {
     "data": {
      "text/plain": [
       "22.518"
      ]
     },
     "execution_count": 79,
     "metadata": {},
     "output_type": "execute_result"
    }
   ],
   "source": [
    "protein = float(result[\"amount\"].where(result[\"name\"] == \"Protein\").dropna())\n",
    "protein"
   ]
  },
  {
   "cell_type": "code",
   "execution_count": 90,
   "metadata": {},
   "outputs": [
    {
     "data": {
      "text/plain": [
       "0    22.5180\n",
       "1     1.2780\n",
       "4     5.6034\n",
       "5     6.5574\n",
       "6     3.4272\n",
       "Name: amount, dtype: float64"
      ]
     },
     "execution_count": 90,
     "metadata": {},
     "output_type": "execute_result"
    }
   ],
   "source": [
    "parameters = {\"Protein\": 150, \"Carbs\": 100, \"Sugar\": 0, \"F. Saturated\": 30, \"F. Monoun-\": 30, \"F. Poliun-\": 30 }\n",
    "makro = pd.Series(parameters)\n",
    "name = nut_select[:1] + nut_select[2:]\n",
    "result[\"amount\"].where(result[\"name\"].isin(name)).dropna()"
   ]
  },
  {
   "cell_type": "code",
   "execution_count": null,
   "metadata": {},
   "outputs": [],
   "source": []
  }
 ],
 "metadata": {
  "kernelspec": {
   "display_name": "Python 3",
   "language": "python",
   "name": "python3"
  },
  "language_info": {
   "codemirror_mode": {
    "name": "ipython",
    "version": 3
   },
   "file_extension": ".py",
   "mimetype": "text/x-python",
   "name": "python",
   "nbconvert_exporter": "python",
   "pygments_lexer": "ipython3",
   "version": "3.8.5"
  }
 },
 "nbformat": 4,
 "nbformat_minor": 4
}
